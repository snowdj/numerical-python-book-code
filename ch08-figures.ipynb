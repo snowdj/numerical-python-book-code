{
 "cells": [
  {
   "cell_type": "markdown",
   "metadata": {},
   "source": [
    "Robert Johansson\n",
    "\n",
    "Source code listings for [Numerical Python - Scientific Computing and Data Science Applications with Numpy, SciPy and Matplotlib](https://www.apress.com/us/book/9781484242452) (ISBN 978-1-484242-45-2)."
   ]
  },
  {
   "cell_type": "code",
   "execution_count": 1,
   "metadata": {
    "collapsed": false
   },
   "outputs": [],
   "source": [
    "%matplotlib inline\n",
    "import matplotlib.pyplot as plt"
   ]
  },
  {
   "cell_type": "code",
   "execution_count": 2,
   "metadata": {
    "collapsed": false
   },
   "outputs": [],
   "source": [
    "import numpy as np"
   ]
  },
  {
   "cell_type": "code",
   "execution_count": 3,
   "metadata": {
    "collapsed": false
   },
   "outputs": [],
   "source": [
    "import sympy"
   ]
  },
  {
   "cell_type": "markdown",
   "metadata": {},
   "source": [
    "## Integral"
   ]
  },
  {
   "cell_type": "code",
   "execution_count": 4,
   "metadata": {
    "collapsed": false
   },
   "outputs": [],
   "source": [
    "x, x0 = sympy.symbols(\"x, x_0\")"
   ]
  },
  {
   "cell_type": "code",
   "execution_count": 5,
   "metadata": {
    "collapsed": false
   },
   "outputs": [],
   "source": [
    "f = (x+0.5) ** 3 - 3.5 * (x+0.5) **2 + x  + 3"
   ]
  },
  {
   "cell_type": "code",
   "execution_count": 6,
   "metadata": {
    "collapsed": false
   },
   "outputs": [
    {
     "data": {
      "text/latex": [
       "$\\displaystyle x_{0} + \\left(x - x_{0}\\right) \\left(- 7.0 x_{0} + 3 \\left(x_{0} + 0.5\\right)^{2} - 2.5\\right) + \\left(x_{0} + 0.5\\right)^{3} - 3.5 \\left(x_{0} + 0.5\\right)^{2} + 3$"
      ],
      "text/plain": [
       "x_0 + (x - x_0)*(-7.0*x_0 + 3*(x_0 + 0.5)**2 - 2.5) + (x_0 + 0.5)**3 - 3.5*(x_0 + 0.5)**2 + 3"
      ]
     },
     "execution_count": 6,
     "metadata": {},
     "output_type": "execute_result"
    }
   ],
   "source": [
    "f.subs(x,x0) + f.diff(x).subs(x,x0) * (x - x0)"
   ]
  },
  {
   "cell_type": "code",
   "execution_count": 7,
   "metadata": {
    "collapsed": false
   },
   "outputs": [],
   "source": [
    "f_func = sympy.lambdify(x, f, 'numpy')"
   ]
  },
  {
   "cell_type": "code",
   "execution_count": 8,
   "metadata": {
    "collapsed": false
   },
   "outputs": [],
   "source": [
    "def arrowify(fig, ax):\n",
    "    xmin, xmax = ax.get_xlim()\n",
    "    ymin, ymax = ax.get_ylim()\n",
    "\n",
    "    # removing the default axis on all sides:\n",
    "    for side in ['bottom','right','top','left']:\n",
    "        ax.spines[side].set_visible(False)\n",
    "\n",
    "    # removing the axis labels and ticks\n",
    "    ax.set_xticks([])\n",
    "    ax.set_yticks([])\n",
    "    ax.xaxis.set_ticks_position('none')\n",
    "    ax.yaxis.set_ticks_position('none')\n",
    "\n",
    "    # wider figure for demonstration\n",
    "    #fig.set_size_inches(4,2.2)\n",
    "\n",
    "    # get width and height of axes object to compute\n",
    "    # matching arrowhead length and width\n",
    "    dps = fig.dpi_scale_trans.inverted()\n",
    "    bbox = ax.get_window_extent().transformed(dps)\n",
    "    width, height = bbox.width, bbox.height\n",
    "\n",
    "    # manual arrowhead width and length\n",
    "    hw = 1./25.*(ymax-ymin)\n",
    "    hl = 1./25.*(xmax-xmin)\n",
    "    lw = 0.5 # axis line width\n",
    "    ohg = 0.3 # arrow overhang\n",
    "\n",
    "    # compute matching arrowhead length and width\n",
    "    yhw = hw/(ymax-ymin)*(xmax-xmin)* height/width\n",
    "    yhl = hl/(xmax-xmin)*(ymax-ymin)* width/height\n",
    "\n",
    "    # draw x and y axis\n",
    "    ax.arrow(xmin, 0, xmax-xmin, 0., fc='k', ec='k', lw = lw,\n",
    "             head_width=hw, head_length=hl, overhang=ohg,\n",
    "             length_includes_head=True, clip_on=False)\n",
    "\n",
    "    ax.arrow(0, ymin, 0., ymax-ymin, fc='k', ec='k', lw = lw,\n",
    "             head_width=yhw, head_length=yhl, overhang=ohg,\n",
    "             length_includes_head=True, clip_on=False)\n",
    "\n",
    "    \n",
    "    ax.text(xmax*0.95, ymin*0.25, r'$x$', fontsize=22)\n",
    "    ax.text(xmin*0.35, ymax*0.9, r'$f(x)$', fontsize=22)"
   ]
  },
  {
   "cell_type": "code",
   "execution_count": 9,
   "metadata": {
    "collapsed": false
   },
   "outputs": [
    {
     "data": {
      "image/png": "[encoded data removed]",
      "text/plain": [
       "<Figure size 576x288 with 1 Axes>"
      ]
     },
     "metadata": {},
     "output_type": "display_data"
    }
   ],
   "source": [
    "fig, ax = plt.subplots(1, 1, figsize=(8,4))\n",
    "\n",
    "xvec = np.linspace(-1.75, 3.0, 100)\n",
    "ax.plot(xvec, f_func(xvec), 'k', lw=2)\n",
    "\n",
    "xvec = np.linspace(-0.8, 0.85, 100)\n",
    "ax.fill_between(xvec, f_func(xvec), color='lightgreen', alpha=0.9)\n",
    "xvec = np.linspace(0.85, 2.31, 100)\n",
    "ax.fill_between(xvec, f_func(xvec), color='red', alpha=0.5)\n",
    "xvec = np.linspace(2.31, 2.6, 100)\n",
    "ax.fill_between(xvec, f_func(xvec), color='lightgreen', alpha=0.99)\n",
    "\n",
    "ax.text(0.6, 3.5, r\"$\\int_a^b\\!f(x){\\rm d}x$\", fontsize=22)\n",
    "ax.text(-0.88, -0.85, r\"$a$\", fontsize=18)\n",
    "ax.text(2.55, -0.85, r\"$b$\", fontsize=18)\n",
    "ax.axis('tight')\n",
    "\n",
    "arrowify(fig, ax)\n",
    "fig.savefig(\"ch8-illustration-integral.pdf\")"
   ]
  },
  {
   "cell_type": "markdown",
   "metadata": {},
   "source": [
    "## Quadrature rules"
   ]
  },
  {
   "cell_type": "code",
   "execution_count": 10,
   "metadata": {
    "collapsed": false
   },
   "outputs": [],
   "source": [
    "from numpy import polynomial"
   ]
  },
  {
   "cell_type": "code",
   "execution_count": 11,
   "metadata": {
    "collapsed": false
   },
   "outputs": [],
   "source": [
    "from scipy import integrate"
   ]
  },
  {
   "cell_type": "code",
   "execution_count": 12,
   "metadata": {
    "collapsed": false
   },
   "outputs": [],
   "source": [
    "from scipy import interpolate"
   ]
  },
  {
   "cell_type": "code",
   "execution_count": 13,
   "metadata": {
    "collapsed": false
   },
   "outputs": [],
   "source": [
    "a = 0\n",
    "b = 1.0\n",
    "\n",
    "def f(x):\n",
    "    return np.exp(-x**2)"
   ]
  },
  {
   "cell_type": "code",
   "execution_count": 14,
   "metadata": {
    "collapsed": false
   },
   "outputs": [],
   "source": [
    "a = -1.0\n",
    "b = 1.0\n",
    "\n",
    "def f(x):\n",
    "    return 3 + x + x**2 + x**3 + x**4"
   ]
  },
  {
   "cell_type": "code",
   "execution_count": 15,
   "metadata": {
    "collapsed": false
   },
   "outputs": [],
   "source": [
    "x = np.linspace(a, b, 100)\n",
    "xx = np.linspace(a-0.2, b+0.2, 100)"
   ]
  },
  {
   "cell_type": "code",
   "execution_count": 16,
   "metadata": {
    "collapsed": false
   },
   "outputs": [
    {
     "data": {
      "image/png": "[encoded data removed]",
      "text/plain": [
       "<Figure size 1152x288 with 3 Axes>"
      ]
     },
     "metadata": {
      "needs_background": "light"
     },
     "output_type": "display_data"
    }
   ],
   "source": [
    "fig, (ax1, ax2, ax3) = plt.subplots(1, 3, figsize=(16, 4))\n",
    "\n",
    "npoints = 2\n",
    "npoints = 5\n",
    "\n",
    "X = np.linspace(a, b, npoints)\n",
    "\n",
    "ax1.plot(xx, f(xx), lw=1, color='k')\n",
    "ax1.fill_between(x, f(x), color='lightgreen', alpha=0.9)\n",
    "\n",
    "for n in range(len(X) - 1):\n",
    "    f_mid = f(X[n:n+2].mean())\n",
    "    ax1.plot([X[n], X[n]], [0, f_mid], 'b')\n",
    "    ax1.plot([X[n+1], X[n+1]], [0, f_mid], 'b')\n",
    "    ax1.plot(X[n:n+2], [f_mid] * 2, 'b')\n",
    "    ax1.plot(X[n:n+2].mean(), f_mid, 'xk')\n",
    "    \n",
    "i = (b-a)*f_mid\n",
    "#ax1.text(-1, 7, r'$\\int_{-1}^{\\,1} f(x)dx \\approx %f$' % i, fontsize=18)\n",
    "ax1.plot(X, f(X), 'ro')\n",
    "ax1.set_xlim(xx.min(), xx.max())\n",
    "ax1.set_title('Mid-point rule')\n",
    "ax1.set_xticks([-1, 0, 1])\n",
    "ax1.set_xlabel(r'$x$', fontsize=18)\n",
    "ax1.set_ylabel(r'$f(x)$', fontsize=18)\n",
    "\n",
    "names = [\"Trapezoid rule\", \"Simpson's rule\"]\n",
    "for idx, ax in enumerate([ax2, ax3]):\n",
    "    ax.plot(xx, f(xx), lw=1, color='k')\n",
    "    ax.fill_between(x, f(x), color='lightgreen', alpha=0.9)\n",
    "\n",
    "    i = 0\n",
    "    for n in range(len(X) - 1):\n",
    "        XX = np.linspace(X[n], X[n+1], idx+2)\n",
    "\n",
    "        f_interp = polynomial.Polynomial.fit(XX, f(XX), len(XX)-1)    \n",
    "        ax.plot([X[n], X[n]], [0, f(X[n])], 'b')\n",
    "        ax.plot([X[n+1], X[n+1]], [0, f(X[n+1])], 'b')\n",
    "        XXX = np.linspace(X[n], X[n+1], 50)\n",
    "        ax.plot(XXX, f_interp(XXX), 'b')\n",
    "        \n",
    "        F = f_interp.integ()\n",
    "        i += F(X[n+1]) - F(X[n])\n",
    "    ax.text(-1, 5.5, r'$\\int_a^{\\,b} f(x)dx \\approx %f$' % i, fontsize=18)\n",
    "    ax.plot(X, f(X), 'ro')\n",
    "    ax.set_xlabel(r'$x$', fontsize=18)\n",
    "    ax.set_ylabel(r'$f(x)$', fontsize=18)\n",
    "    ax.set_xlim(xx.min(), xx.max())\n",
    "    ax.set_title(names[idx])\n",
    "    ax.set_xticks([-1, 0, 1])\n",
    "\n",
    "fig.tight_layout()\n",
    "fig.savefig('ch8-quadrature-rules-%d.pdf' % npoints)"
   ]
  },
  {
   "cell_type": "code",
   "execution_count": 17,
   "metadata": {
    "collapsed": false
   },
   "outputs": [
    {
     "data": {
      "text/plain": [
       "6.0"
      ]
     },
     "execution_count": 17,
     "metadata": {},
     "output_type": "execute_result"
    }
   ],
   "source": [
    "# mid-point rule\n",
    "(b-a) * f((b+a)/2.0)"
   ]
  },
  {
   "cell_type": "code",
   "execution_count": 18,
   "metadata": {
    "collapsed": false
   },
   "outputs": [
    {
     "data": {
      "text/plain": [
       "10.0"
      ]
     },
     "execution_count": 18,
     "metadata": {},
     "output_type": "execute_result"
    }
   ],
   "source": [
    "# trapezoid rule\n",
    "(b-a)/2.0 * (f(a) + f(b))"
   ]
  },
  {
   "cell_type": "code",
   "execution_count": 19,
   "metadata": {
    "collapsed": false
   },
   "outputs": [
    {
     "data": {
      "text/plain": [
       "7.333333333333333"
      ]
     },
     "execution_count": 19,
     "metadata": {},
     "output_type": "execute_result"
    }
   ],
   "source": [
    "# simpsons rule\n",
    "(b-a)/6.0 * (f(a) + 4 * f((a+b)/2.0) + f(b))"
   ]
  },
  {
   "cell_type": "code",
   "execution_count": 20,
   "metadata": {
    "collapsed": false
   },
   "outputs": [
    {
     "data": {
      "text/plain": [
       "7.066666666666667"
      ]
     },
     "execution_count": 20,
     "metadata": {},
     "output_type": "execute_result"
    }
   ],
   "source": [
    "# exact result\n",
    "integrate.quad(f, a, b)[0]"
   ]
  },
  {
   "cell_type": "code",
   "execution_count": 21,
   "metadata": {
    "collapsed": false
   },
   "outputs": [
    {
     "data": {
      "text/plain": [
       "7.3125"
      ]
     },
     "execution_count": 21,
     "metadata": {},
     "output_type": "execute_result"
    }
   ],
   "source": [
    "integrate.trapz(f(X), X)"
   ]
  },
  {
   "cell_type": "code",
   "execution_count": 22,
   "metadata": {
    "collapsed": false
   },
   "outputs": [
    {
     "data": {
      "text/plain": [
       "7.083333333333332"
      ]
     },
     "execution_count": 22,
     "metadata": {},
     "output_type": "execute_result"
    }
   ],
   "source": [
    "integrate.simps(f(X), X)"
   ]
  },
  {
   "cell_type": "code",
   "execution_count": 23,
   "metadata": {
    "collapsed": false
   },
   "outputs": [
    {
     "data": {
      "text/plain": [
       "7.066666666666666"
      ]
     },
     "execution_count": 23,
     "metadata": {},
     "output_type": "execute_result"
    }
   ],
   "source": [
    "integrate.quadrature(f, a, b)[0]"
   ]
  },
  {
   "cell_type": "code",
   "execution_count": 24,
   "metadata": {
    "collapsed": false
   },
   "outputs": [
    {
     "data": {
      "text/plain": [
       "7.066666666666666"
      ]
     },
     "execution_count": 24,
     "metadata": {},
     "output_type": "execute_result"
    }
   ],
   "source": [
    "integrate.romberg(f, a, b)"
   ]
  },
  {
   "cell_type": "code",
   "execution_count": 25,
   "metadata": {
    "collapsed": false
   },
   "outputs": [
    {
     "data": {
      "text/plain": [
       "array([0.33333333, 1.33333333, 0.33333333])"
      ]
     },
     "execution_count": 25,
     "metadata": {},
     "output_type": "execute_result"
    }
   ],
   "source": [
    "integrate.newton_cotes(2)[0]"
   ]
  },
  {
   "cell_type": "code",
   "execution_count": 26,
   "metadata": {
    "collapsed": false
   },
   "outputs": [
    {
     "data": {
      "image/png": "[encoded data removed]",
      "text/plain": [
       "<Figure size 432x288 with 1 Axes>"
      ]
     },
     "metadata": {
      "needs_background": "light"
     },
     "output_type": "display_data"
    }
   ],
   "source": [
    "fig, ax = plt.subplots()\n",
    "\n",
    "ax.fill_between(x, f(x), alpha=0.25)\n",
    "ax.plot(X, f(X), 'ro')\n",
    "\n",
    "for n in range(len(X) - 1):\n",
    "    f_mid = f(X[n:n+2].mean())\n",
    "    ax.plot([X[n], X[n]], [0, f_mid], 'k')\n",
    "    ax.plot([X[n+1], X[n+1]], [0, f_mid], 'k')\n",
    "    ax.plot(X[n:n+2], [f_mid] * 2, 'k')"
   ]
  },
  {
   "cell_type": "code",
   "execution_count": 27,
   "metadata": {
    "collapsed": false
   },
   "outputs": [
    {
     "data": {
      "image/png": "[encoded data removed]",
      "text/plain": [
       "<Figure size 432x288 with 1 Axes>"
      ]
     },
     "metadata": {
      "needs_background": "light"
     },
     "output_type": "display_data"
    }
   ],
   "source": [
    "fig, ax = plt.subplots()\n",
    "\n",
    "ax.fill_between(x, f(x), alpha=0.25)\n",
    "ax.plot(X, f(X), 'ro')\n",
    "\n",
    "for n in range(len(X) - 1):\n",
    "    f_mid = f(X[n:n+2].mean())\n",
    "    ax.plot([X[n], X[n]], [0, f(X[n])], 'k')\n",
    "    ax.plot([X[n+1], X[n+1]], [0, f(X[n+1])], 'k')\n",
    "    ax.plot(X[n:n+2], [f(X[n]), f(X[n+1])], 'k')"
   ]
  }
 ],
 "metadata": {
  "kernelspec": {
   "display_name": "py3.6",
   "language": "python",
   "name": "py3.6"
  },
  "language_info": {
   "codemirror_mode": {
    "name": "ipython",
    "version": 3
   },
   "file_extension": ".py",
   "mimetype": "text/x-python",
   "name": "python",
   "nbconvert_exporter": "python",
   "pygments_lexer": "ipython3",
   "version": "3.6.8"
  }
 },
 "nbformat": 4,
 "nbformat_minor": 2
}
